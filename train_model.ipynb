{
 "cells": [
  {
   "cell_type": "code",
   "execution_count": null,
   "metadata": {},
   "outputs": [],
   "source": [
    "#import MobileNet model\n",
    "from tensorflow.keras.applications import MobileNet\n",
    "\n",
    "\n",
    "#set default image size\n",
    "img_rows, img_cols = 224,224\n",
    "\n",
    "MobileNet = MobileNet(weights='imagenet',\n",
    "                      include_top=False,\n",
    "                      input_shape = (img_rows,img_cols,3))\n",
    "\n",
    "\n",
    "#use previous weights \n",
    "for layer in MobileNet.layers:\n",
    "  layer.trainable = False"
   ]
  },
  {
   "cell_type": "code",
   "execution_count": 47,
   "metadata": {
    "colab": {},
    "colab_type": "code",
    "executionInfo": {
     "elapsed": 1201,
     "status": "ok",
     "timestamp": 1595845458597,
     "user": {
      "displayName": "Azizul Hakim",
      "photoUrl": "https://lh3.googleusercontent.com/a-/AOh14Gg_W0L9s4YQUW1VbpSvNkA3uEljtlRkDhDKcgQH=s64",
      "userId": "02420555928817331370"
     },
     "user_tz": -360
    },
    "id": "3k0zcTCikLl_"
   },
   "outputs": [],
   "source": [
    "from tensorflow.keras.models import Sequential\n",
    "from tensorflow.keras.layers import Dense, Dropout, Activation, Flatten, GlobalAveragePooling2D, Conv2D, MaxPooling2D, ZeroPadding2D\n",
    "from tensorflow.keras.layers import BatchNormalization\n",
    "from tensorflow.keras.models import Model\n",
    "\n",
    "\n",
    "#top layer according to our custom need\n",
    "def addTopModelMobileNet(bottom_model, num_classes):\n",
    "  top_model = bottom_model.output\n",
    "  top_model = GlobalAveragePooling2D()(top_model)\n",
    "  top_model = Dense(1024,activation='relu')(top_model)\n",
    "  top_model = Dense(1024,activation='relu')(top_model)\n",
    "  top_model = Dense(512,activation='relu')(top_model)\n",
    "  top_model = Dense(1,activation='sigmoid')(top_model)\n",
    "  return top_model"
   ]
  },
  {
   "cell_type": "code",
   "execution_count": 48,
   "metadata": {
    "colab": {
     "base_uri": "https://localhost:8080/",
     "height": 1000
    },
    "colab_type": "code",
    "executionInfo": {
     "elapsed": 1666,
     "status": "ok",
     "timestamp": 1595845462256,
     "user": {
      "displayName": "Azizul Hakim",
      "photoUrl": "https://lh3.googleusercontent.com/a-/AOh14Gg_W0L9s4YQUW1VbpSvNkA3uEljtlRkDhDKcgQH=s64",
      "userId": "02420555928817331370"
     },
     "user_tz": -360
    },
    "id": "pt3lZ9yqkRRg",
    "outputId": "6675353b-6990-4988-d03b-c799e5492bb9"
   },
   "outputs": [
    {
     "name": "stdout",
     "output_type": "stream",
     "text": [
      "Model: \"model_2\"\n",
      "_________________________________________________________________\n",
      "Layer (type)                 Output Shape              Param #   \n",
      "=================================================================\n",
      "input_3 (InputLayer)         [(None, 224, 224, 3)]     0         \n",
      "_________________________________________________________________\n",
      "conv1_pad (ZeroPadding2D)    (None, 225, 225, 3)       0         \n",
      "_________________________________________________________________\n",
      "conv1 (Conv2D)               (None, 112, 112, 32)      864       \n",
      "_________________________________________________________________\n",
      "conv1_bn (BatchNormalization (None, 112, 112, 32)      128       \n",
      "_________________________________________________________________\n",
      "conv1_relu (ReLU)            (None, 112, 112, 32)      0         \n",
      "_________________________________________________________________\n",
      "conv_dw_1 (DepthwiseConv2D)  (None, 112, 112, 32)      288       \n",
      "_________________________________________________________________\n",
      "conv_dw_1_bn (BatchNormaliza (None, 112, 112, 32)      128       \n",
      "_________________________________________________________________\n",
      "conv_dw_1_relu (ReLU)        (None, 112, 112, 32)      0         \n",
      "_________________________________________________________________\n",
      "conv_pw_1 (Conv2D)           (None, 112, 112, 64)      2048      \n",
      "_________________________________________________________________\n",
      "conv_pw_1_bn (BatchNormaliza (None, 112, 112, 64)      256       \n",
      "_________________________________________________________________\n",
      "conv_pw_1_relu (ReLU)        (None, 112, 112, 64)      0         \n",
      "_________________________________________________________________\n",
      "conv_pad_2 (ZeroPadding2D)   (None, 113, 113, 64)      0         \n",
      "_________________________________________________________________\n",
      "conv_dw_2 (DepthwiseConv2D)  (None, 56, 56, 64)        576       \n",
      "_________________________________________________________________\n",
      "conv_dw_2_bn (BatchNormaliza (None, 56, 56, 64)        256       \n",
      "_________________________________________________________________\n",
      "conv_dw_2_relu (ReLU)        (None, 56, 56, 64)        0         \n",
      "_________________________________________________________________\n",
      "conv_pw_2 (Conv2D)           (None, 56, 56, 128)       8192      \n",
      "_________________________________________________________________\n",
      "conv_pw_2_bn (BatchNormaliza (None, 56, 56, 128)       512       \n",
      "_________________________________________________________________\n",
      "conv_pw_2_relu (ReLU)        (None, 56, 56, 128)       0         \n",
      "_________________________________________________________________\n",
      "conv_dw_3 (DepthwiseConv2D)  (None, 56, 56, 128)       1152      \n",
      "_________________________________________________________________\n",
      "conv_dw_3_bn (BatchNormaliza (None, 56, 56, 128)       512       \n",
      "_________________________________________________________________\n",
      "conv_dw_3_relu (ReLU)        (None, 56, 56, 128)       0         \n",
      "_________________________________________________________________\n",
      "conv_pw_3 (Conv2D)           (None, 56, 56, 128)       16384     \n",
      "_________________________________________________________________\n",
      "conv_pw_3_bn (BatchNormaliza (None, 56, 56, 128)       512       \n",
      "_________________________________________________________________\n",
      "conv_pw_3_relu (ReLU)        (None, 56, 56, 128)       0         \n",
      "_________________________________________________________________\n",
      "conv_pad_4 (ZeroPadding2D)   (None, 57, 57, 128)       0         \n",
      "_________________________________________________________________\n",
      "conv_dw_4 (DepthwiseConv2D)  (None, 28, 28, 128)       1152      \n",
      "_________________________________________________________________\n",
      "conv_dw_4_bn (BatchNormaliza (None, 28, 28, 128)       512       \n",
      "_________________________________________________________________\n",
      "conv_dw_4_relu (ReLU)        (None, 28, 28, 128)       0         \n",
      "_________________________________________________________________\n",
      "conv_pw_4 (Conv2D)           (None, 28, 28, 256)       32768     \n",
      "_________________________________________________________________\n",
      "conv_pw_4_bn (BatchNormaliza (None, 28, 28, 256)       1024      \n",
      "_________________________________________________________________\n",
      "conv_pw_4_relu (ReLU)        (None, 28, 28, 256)       0         \n",
      "_________________________________________________________________\n",
      "conv_dw_5 (DepthwiseConv2D)  (None, 28, 28, 256)       2304      \n",
      "_________________________________________________________________\n",
      "conv_dw_5_bn (BatchNormaliza (None, 28, 28, 256)       1024      \n",
      "_________________________________________________________________\n",
      "conv_dw_5_relu (ReLU)        (None, 28, 28, 256)       0         \n",
      "_________________________________________________________________\n",
      "conv_pw_5 (Conv2D)           (None, 28, 28, 256)       65536     \n",
      "_________________________________________________________________\n",
      "conv_pw_5_bn (BatchNormaliza (None, 28, 28, 256)       1024      \n",
      "_________________________________________________________________\n",
      "conv_pw_5_relu (ReLU)        (None, 28, 28, 256)       0         \n",
      "_________________________________________________________________\n",
      "conv_pad_6 (ZeroPadding2D)   (None, 29, 29, 256)       0         \n",
      "_________________________________________________________________\n",
      "conv_dw_6 (DepthwiseConv2D)  (None, 14, 14, 256)       2304      \n",
      "_________________________________________________________________\n",
      "conv_dw_6_bn (BatchNormaliza (None, 14, 14, 256)       1024      \n",
      "_________________________________________________________________\n",
      "conv_dw_6_relu (ReLU)        (None, 14, 14, 256)       0         \n",
      "_________________________________________________________________\n",
      "conv_pw_6 (Conv2D)           (None, 14, 14, 512)       131072    \n",
      "_________________________________________________________________\n",
      "conv_pw_6_bn (BatchNormaliza (None, 14, 14, 512)       2048      \n",
      "_________________________________________________________________\n",
      "conv_pw_6_relu (ReLU)        (None, 14, 14, 512)       0         \n",
      "_________________________________________________________________\n",
      "conv_dw_7 (DepthwiseConv2D)  (None, 14, 14, 512)       4608      \n",
      "_________________________________________________________________\n",
      "conv_dw_7_bn (BatchNormaliza (None, 14, 14, 512)       2048      \n",
      "_________________________________________________________________\n",
      "conv_dw_7_relu (ReLU)        (None, 14, 14, 512)       0         \n",
      "_________________________________________________________________\n",
      "conv_pw_7 (Conv2D)           (None, 14, 14, 512)       262144    \n",
      "_________________________________________________________________\n",
      "conv_pw_7_bn (BatchNormaliza (None, 14, 14, 512)       2048      \n",
      "_________________________________________________________________\n",
      "conv_pw_7_relu (ReLU)        (None, 14, 14, 512)       0         \n",
      "_________________________________________________________________\n",
      "conv_dw_8 (DepthwiseConv2D)  (None, 14, 14, 512)       4608      \n",
      "_________________________________________________________________\n",
      "conv_dw_8_bn (BatchNormaliza (None, 14, 14, 512)       2048      \n",
      "_________________________________________________________________\n",
      "conv_dw_8_relu (ReLU)        (None, 14, 14, 512)       0         \n",
      "_________________________________________________________________\n",
      "conv_pw_8 (Conv2D)           (None, 14, 14, 512)       262144    \n",
      "_________________________________________________________________\n",
      "conv_pw_8_bn (BatchNormaliza (None, 14, 14, 512)       2048      \n",
      "_________________________________________________________________\n",
      "conv_pw_8_relu (ReLU)        (None, 14, 14, 512)       0         \n",
      "_________________________________________________________________\n",
      "conv_dw_9 (DepthwiseConv2D)  (None, 14, 14, 512)       4608      \n",
      "_________________________________________________________________\n",
      "conv_dw_9_bn (BatchNormaliza (None, 14, 14, 512)       2048      \n",
      "_________________________________________________________________\n",
      "conv_dw_9_relu (ReLU)        (None, 14, 14, 512)       0         \n",
      "_________________________________________________________________\n",
      "conv_pw_9 (Conv2D)           (None, 14, 14, 512)       262144    \n",
      "_________________________________________________________________\n",
      "conv_pw_9_bn (BatchNormaliza (None, 14, 14, 512)       2048      \n",
      "_________________________________________________________________\n",
      "conv_pw_9_relu (ReLU)        (None, 14, 14, 512)       0         \n",
      "_________________________________________________________________\n",
      "conv_dw_10 (DepthwiseConv2D) (None, 14, 14, 512)       4608      \n",
      "_________________________________________________________________\n",
      "conv_dw_10_bn (BatchNormaliz (None, 14, 14, 512)       2048      \n",
      "_________________________________________________________________\n",
      "conv_dw_10_relu (ReLU)       (None, 14, 14, 512)       0         \n",
      "_________________________________________________________________\n",
      "conv_pw_10 (Conv2D)          (None, 14, 14, 512)       262144    \n",
      "_________________________________________________________________\n",
      "conv_pw_10_bn (BatchNormaliz (None, 14, 14, 512)       2048      \n",
      "_________________________________________________________________\n",
      "conv_pw_10_relu (ReLU)       (None, 14, 14, 512)       0         \n",
      "_________________________________________________________________\n",
      "conv_dw_11 (DepthwiseConv2D) (None, 14, 14, 512)       4608      \n",
      "_________________________________________________________________\n",
      "conv_dw_11_bn (BatchNormaliz (None, 14, 14, 512)       2048      \n",
      "_________________________________________________________________\n",
      "conv_dw_11_relu (ReLU)       (None, 14, 14, 512)       0         \n",
      "_________________________________________________________________\n",
      "conv_pw_11 (Conv2D)          (None, 14, 14, 512)       262144    \n",
      "_________________________________________________________________\n",
      "conv_pw_11_bn (BatchNormaliz (None, 14, 14, 512)       2048      \n",
      "_________________________________________________________________\n",
      "conv_pw_11_relu (ReLU)       (None, 14, 14, 512)       0         \n",
      "_________________________________________________________________\n",
      "conv_pad_12 (ZeroPadding2D)  (None, 15, 15, 512)       0         \n",
      "_________________________________________________________________\n",
      "conv_dw_12 (DepthwiseConv2D) (None, 7, 7, 512)         4608      \n",
      "_________________________________________________________________\n",
      "conv_dw_12_bn (BatchNormaliz (None, 7, 7, 512)         2048      \n",
      "_________________________________________________________________\n",
      "conv_dw_12_relu (ReLU)       (None, 7, 7, 512)         0         \n",
      "_________________________________________________________________\n",
      "conv_pw_12 (Conv2D)          (None, 7, 7, 1024)        524288    \n",
      "_________________________________________________________________\n",
      "conv_pw_12_bn (BatchNormaliz (None, 7, 7, 1024)        4096      \n",
      "_________________________________________________________________\n",
      "conv_pw_12_relu (ReLU)       (None, 7, 7, 1024)        0         \n",
      "_________________________________________________________________\n",
      "conv_dw_13 (DepthwiseConv2D) (None, 7, 7, 1024)        9216      \n",
      "_________________________________________________________________\n",
      "conv_dw_13_bn (BatchNormaliz (None, 7, 7, 1024)        4096      \n",
      "_________________________________________________________________\n",
      "conv_dw_13_relu (ReLU)       (None, 7, 7, 1024)        0         \n",
      "_________________________________________________________________\n",
      "conv_pw_13 (Conv2D)          (None, 7, 7, 1024)        1048576   \n",
      "_________________________________________________________________\n",
      "conv_pw_13_bn (BatchNormaliz (None, 7, 7, 1024)        4096      \n",
      "_________________________________________________________________\n",
      "conv_pw_13_relu (ReLU)       (None, 7, 7, 1024)        0         \n",
      "_________________________________________________________________\n",
      "global_average_pooling2d_2 ( (None, 1024)              0         \n",
      "_________________________________________________________________\n",
      "dense_8 (Dense)              (None, 1024)              1049600   \n",
      "_________________________________________________________________\n",
      "dense_9 (Dense)              (None, 1024)              1049600   \n",
      "_________________________________________________________________\n",
      "dense_10 (Dense)             (None, 512)               524800    \n",
      "_________________________________________________________________\n",
      "dense_11 (Dense)             (None, 1)                 513       \n",
      "=================================================================\n",
      "Total params: 5,853,377\n",
      "Trainable params: 2,624,513\n",
      "Non-trainable params: 3,228,864\n",
      "_________________________________________________________________\n"
     ]
    }
   ],
   "source": [
    "num_classes = 1\n",
    "\n",
    "FC_Head = addTopModelMobileNet(MobileNet,num_classes)\n",
    "\n",
    "model = Model(inputs = MobileNet.input, outputs = FC_Head)\n",
    "\n",
    "model.summary()"
   ]
  },
  {
   "cell_type": "code",
   "execution_count": 49,
   "metadata": {
    "colab": {
     "base_uri": "https://localhost:8080/",
     "height": 51
    },
    "colab_type": "code",
    "executionInfo": {
     "elapsed": 1108,
     "status": "ok",
     "timestamp": 1595845506692,
     "user": {
      "displayName": "Azizul Hakim",
      "photoUrl": "https://lh3.googleusercontent.com/a-/AOh14Gg_W0L9s4YQUW1VbpSvNkA3uEljtlRkDhDKcgQH=s64",
      "userId": "02420555928817331370"
     },
     "user_tz": -360
    },
    "id": "RoOKr9j8kS0f",
    "outputId": "af9e2229-0377-4550-bf5e-e3be099215ad"
   },
   "outputs": [
    {
     "name": "stdout",
     "output_type": "stream",
     "text": [
      "Found 266 images belonging to 2 classes.\n",
      "Found 41 images belonging to 2 classes.\n"
     ]
    }
   ],
   "source": [
    "from tensorflow.keras.preprocessing.image import ImageDataGenerator\n",
    "\n",
    "\n",
    "#train path\n",
    "train_dir = '/Dataset/Train'\n",
    "#validation path\n",
    "validation_dir = '/Dataset/Test'\n",
    "\n",
    "#image augmentation for trainset and normalize data\n",
    "train_datagen = ImageDataGenerator(rescale=1./255,\n",
    "                                   rotation_range=45,\n",
    "                                   width_shift_range=.3,\n",
    "                                   height_shift_range=.3,\n",
    "                                   horizontal_flip=True,\n",
    "                                   fill_mode='nearest')\n",
    "#normalize validation data\n",
    "validation_datagen = ImageDataGenerator(rescale=1./255)\n",
    "\n",
    "batch_size = 32\n",
    "\n",
    "#create training data\n",
    "train = train_datagen.flow_from_directory(train_dir,\n",
    "                                          target_size=(img_rows,img_cols),\n",
    "                                          batch_size=batch_size,\n",
    "                                          class_mode = 'binary')\n",
    "\n",
    "#create validation data\n",
    "validation = validation_datagen.flow_from_directory(validation_dir,\n",
    "                                                     target_size=(img_rows,img_cols),\n",
    "                                                     batch_size=batch_size,\n",
    "                                                     class_mode = 'binary',\n",
    "                                                     shuffle=False)"
   ]
  },
  {
   "cell_type": "code",
   "execution_count": null,
   "metadata": {
    "colab": {},
    "colab_type": "code",
    "id": "0mrk1oRFki2S"
   },
   "outputs": [],
   "source": [
    "from tensorflow.keras.callbacks import EarlyStopping, ModelCheckpoint, ReduceLROnPlateau\n",
    "\n",
    "#checkpoint to save the model auto\n",
    "ckeckpoint = ModelCheckpoint('face_mask_finale.h5',\n",
    "                             monitor='val_loss',\n",
    "                             mode='min',\n",
    "                             save_best_only=True,\n",
    "                             verbose=1)\n",
    "\n",
    "#earlystop to stop overfitting\n",
    "earlystop = EarlyStopping(monitor='val_loss',\n",
    "                          mode='min',\n",
    "                          patience=5,\n",
    "                          verbose=1)\n",
    "\n",
    "\n",
    "#reduce learning rate overtime\n",
    "reduce_lr = ReduceLROnPlateau(monitor='val_loss',\n",
    "                              factor=0.2,\n",
    "                              patience=3,\n",
    "                              varbose=1,\n",
    "                              min_delta=0.0001)\n",
    "\n",
    "callbacks = [ckeckpoint, earlystop, reduce_lr]\n",
    "\n",
    "nb_train_samples = 266 \n",
    "nb_test_samples = 41\n",
    "batch_size = 32\n",
    "epochs = 25\n",
    "\n",
    "\n",
    "model.compile(loss='binary_crossentropy',\n",
    "              optimizer='adam',\n",
    "              metrics=['accuracy'])"
   ]
  },
  {
   "cell_type": "code",
   "execution_count": null,
   "metadata": {
    "colab": {
     "base_uri": "https://localhost:8080/",
     "height": 1000
    },
    "colab_type": "code",
    "executionInfo": {
     "elapsed": 296853,
     "status": "ok",
     "timestamp": 1595842271318,
     "user": {
      "displayName": "Azizul Hakim",
      "photoUrl": "https://lh3.googleusercontent.com/a-/AOh14Gg_W0L9s4YQUW1VbpSvNkA3uEljtlRkDhDKcgQH=s64",
      "userId": "02420555928817331370"
     },
     "user_tz": -360
    },
    "id": "peUbsnmrlA4i",
    "outputId": "cc2f055b-2cb5-4daa-e6b9-b455aac17275"
   },
   "outputs": [
    {
     "name": "stderr",
     "output_type": "stream",
     "text": [
      "/usr/local/lib/python3.6/dist-packages/PIL/TiffImagePlugin.py:788: UserWarning: Corrupt EXIF data.  Expecting to read 4 bytes but only got 0. \n",
      "  warnings.warn(str(msg))\n"
     ]
    },
    {
     "name": "stdout",
     "output_type": "stream",
     "text": [
      "Epoch 1/25\n",
      "8/8 [==============================] - ETA: 0s - loss: 1.3184 - accuracy: 0.4844\n",
      "Epoch 00001: val_loss improved from inf to 0.31570, saving model to face_mask_finale.h5\n",
      "8/8 [==============================] - 11s 1s/step - loss: 1.3184 - accuracy: 0.4844 - val_loss: 0.3157 - val_accuracy: 0.8750 - lr: 0.0010\n",
      "Epoch 2/25\n",
      "8/8 [==============================] - ETA: 0s - loss: 0.3067 - accuracy: 0.9145\n",
      "Epoch 00002: val_loss improved from 0.31570 to 0.03367, saving model to face_mask_finale.h5\n",
      "8/8 [==============================] - 10s 1s/step - loss: 0.3067 - accuracy: 0.9145 - val_loss: 0.0337 - val_accuracy: 1.0000 - lr: 0.0010\n",
      "Epoch 3/25\n",
      "8/8 [==============================] - ETA: 0s - loss: 0.1140 - accuracy: 0.9615\n",
      "Epoch 00003: val_loss improved from 0.03367 to 0.00567, saving model to face_mask_finale.h5\n",
      "8/8 [==============================] - 10s 1s/step - loss: 0.1140 - accuracy: 0.9615 - val_loss: 0.0057 - val_accuracy: 1.0000 - lr: 0.0010\n",
      "Epoch 4/25\n",
      "8/8 [==============================] - ETA: 0s - loss: 0.0840 - accuracy: 0.9701\n",
      "Epoch 00004: val_loss did not improve from 0.00567\n",
      "8/8 [==============================] - 11s 1s/step - loss: 0.0840 - accuracy: 0.9701 - val_loss: 0.0136 - val_accuracy: 1.0000 - lr: 0.0010\n",
      "Epoch 5/25\n",
      "8/8 [==============================] - ETA: 0s - loss: 0.1105 - accuracy: 0.9573\n",
      "Epoch 00005: val_loss improved from 0.00567 to 0.00283, saving model to face_mask_finale.h5\n",
      "8/8 [==============================] - 11s 1s/step - loss: 0.1105 - accuracy: 0.9573 - val_loss: 0.0028 - val_accuracy: 1.0000 - lr: 0.0010\n",
      "Epoch 6/25\n",
      "8/8 [==============================] - ETA: 0s - loss: 0.0168 - accuracy: 0.9957\n",
      "Epoch 00006: val_loss improved from 0.00283 to 0.00133, saving model to face_mask_finale.h5\n",
      "8/8 [==============================] - 11s 1s/step - loss: 0.0168 - accuracy: 0.9957 - val_loss: 0.0013 - val_accuracy: 1.0000 - lr: 0.0010\n",
      "Epoch 7/25\n",
      "8/8 [==============================] - ETA: 0s - loss: 0.0440 - accuracy: 0.9829\n",
      "Epoch 00007: val_loss improved from 0.00133 to 0.00111, saving model to face_mask_finale.h5\n",
      "8/8 [==============================] - 10s 1s/step - loss: 0.0440 - accuracy: 0.9829 - val_loss: 0.0011 - val_accuracy: 1.0000 - lr: 0.0010\n",
      "Epoch 8/25\n",
      "8/8 [==============================] - ETA: 0s - loss: 0.0227 - accuracy: 0.9922\n",
      "Epoch 00008: val_loss improved from 0.00111 to 0.00036, saving model to face_mask_finale.h5\n",
      "8/8 [==============================] - 10s 1s/step - loss: 0.0227 - accuracy: 0.9922 - val_loss: 3.5534e-04 - val_accuracy: 1.0000 - lr: 0.0010\n",
      "Epoch 9/25\n",
      "8/8 [==============================] - ETA: 0s - loss: 0.0287 - accuracy: 0.9872\n",
      "Epoch 00009: val_loss did not improve from 0.00036\n",
      "8/8 [==============================] - 10s 1s/step - loss: 0.0287 - accuracy: 0.9872 - val_loss: 7.6474e-04 - val_accuracy: 1.0000 - lr: 0.0010\n",
      "Epoch 10/25\n",
      "8/8 [==============================] - ETA: 0s - loss: 0.0526 - accuracy: 0.9786\n",
      "Epoch 00010: val_loss did not improve from 0.00036\n",
      "8/8 [==============================] - 10s 1s/step - loss: 0.0526 - accuracy: 0.9786 - val_loss: 4.3598e-04 - val_accuracy: 1.0000 - lr: 0.0010\n",
      "Epoch 11/25\n",
      "8/8 [==============================] - ETA: 0s - loss: 0.0408 - accuracy: 0.9915\n",
      "Epoch 00011: val_loss did not improve from 0.00036\n",
      "8/8 [==============================] - 10s 1s/step - loss: 0.0408 - accuracy: 0.9915 - val_loss: 3.6087e-04 - val_accuracy: 1.0000 - lr: 0.0010\n",
      "Epoch 12/25\n",
      "8/8 [==============================] - ETA: 0s - loss: 0.0050 - accuracy: 1.0000\n",
      "Epoch 00012: val_loss improved from 0.00036 to 0.00029, saving model to face_mask_finale.h5\n",
      "8/8 [==============================] - 11s 1s/step - loss: 0.0050 - accuracy: 1.0000 - val_loss: 2.8501e-04 - val_accuracy: 1.0000 - lr: 2.0000e-04\n",
      "Epoch 13/25\n",
      "8/8 [==============================] - ETA: 0s - loss: 0.0105 - accuracy: 0.9957\n",
      "Epoch 00013: val_loss improved from 0.00029 to 0.00025, saving model to face_mask_finale.h5\n",
      "8/8 [==============================] - 10s 1s/step - loss: 0.0105 - accuracy: 0.9957 - val_loss: 2.4983e-04 - val_accuracy: 1.0000 - lr: 2.0000e-04\n",
      "Epoch 14/25\n",
      "8/8 [==============================] - ETA: 0s - loss: 0.0050 - accuracy: 1.0000\n",
      "Epoch 00014: val_loss improved from 0.00025 to 0.00022, saving model to face_mask_finale.h5\n",
      "8/8 [==============================] - 11s 1s/step - loss: 0.0050 - accuracy: 1.0000 - val_loss: 2.2184e-04 - val_accuracy: 1.0000 - lr: 2.0000e-04\n",
      "Epoch 15/25\n",
      "8/8 [==============================] - ETA: 0s - loss: 0.0137 - accuracy: 0.9957\n",
      "Epoch 00015: val_loss improved from 0.00022 to 0.00021, saving model to face_mask_finale.h5\n",
      "8/8 [==============================] - 11s 1s/step - loss: 0.0137 - accuracy: 0.9957 - val_loss: 2.0513e-04 - val_accuracy: 1.0000 - lr: 2.0000e-04\n",
      "Epoch 16/25\n",
      "8/8 [==============================] - ETA: 0s - loss: 0.0020 - accuracy: 1.0000\n",
      "Epoch 00016: val_loss improved from 0.00021 to 0.00016, saving model to face_mask_finale.h5\n",
      "8/8 [==============================] - 11s 1s/step - loss: 0.0020 - accuracy: 1.0000 - val_loss: 1.6123e-04 - val_accuracy: 1.0000 - lr: 2.0000e-04\n",
      "Epoch 17/25\n",
      "8/8 [==============================] - ETA: 0s - loss: 0.0011 - accuracy: 1.0000\n",
      "Epoch 00017: val_loss improved from 0.00016 to 0.00016, saving model to face_mask_finale.h5\n",
      "8/8 [==============================] - 11s 1s/step - loss: 0.0011 - accuracy: 1.0000 - val_loss: 1.5585e-04 - val_accuracy: 1.0000 - lr: 4.0000e-05\n",
      "Epoch 18/25\n",
      "8/8 [==============================] - ETA: 0s - loss: 0.0053 - accuracy: 0.9957\n",
      "Epoch 00018: val_loss improved from 0.00016 to 0.00015, saving model to face_mask_finale.h5\n",
      "8/8 [==============================] - 10s 1s/step - loss: 0.0053 - accuracy: 0.9957 - val_loss: 1.4982e-04 - val_accuracy: 1.0000 - lr: 4.0000e-05\n",
      "Epoch 19/25\n",
      "8/8 [==============================] - ETA: 0s - loss: 0.0111 - accuracy: 0.9915\n",
      "Epoch 00019: val_loss improved from 0.00015 to 0.00015, saving model to face_mask_finale.h5\n",
      "8/8 [==============================] - 11s 1s/step - loss: 0.0111 - accuracy: 0.9915 - val_loss: 1.4727e-04 - val_accuracy: 1.0000 - lr: 4.0000e-05\n",
      "Epoch 20/25\n",
      "8/8 [==============================] - ETA: 0s - loss: 0.0056 - accuracy: 1.0000\n",
      "Epoch 00020: val_loss did not improve from 0.00015\n",
      "8/8 [==============================] - 11s 1s/step - loss: 0.0056 - accuracy: 1.0000 - val_loss: 1.4824e-04 - val_accuracy: 1.0000 - lr: 4.0000e-05\n",
      "Epoch 21/25\n",
      "8/8 [==============================] - ETA: 0s - loss: 0.0064 - accuracy: 1.0000\n",
      "Epoch 00021: val_loss improved from 0.00015 to 0.00015, saving model to face_mask_finale.h5\n",
      "8/8 [==============================] - 10s 1s/step - loss: 0.0064 - accuracy: 1.0000 - val_loss: 1.4516e-04 - val_accuracy: 1.0000 - lr: 4.0000e-05\n",
      "Epoch 22/25\n",
      "8/8 [==============================] - ETA: 0s - loss: 0.0041 - accuracy: 1.0000\n",
      "Epoch 00022: val_loss improved from 0.00015 to 0.00014, saving model to face_mask_finale.h5\n",
      "8/8 [==============================] - 11s 1s/step - loss: 0.0041 - accuracy: 1.0000 - val_loss: 1.4424e-04 - val_accuracy: 1.0000 - lr: 8.0000e-06\n",
      "Epoch 23/25\n",
      "8/8 [==============================] - ETA: 0s - loss: 0.0023 - accuracy: 1.0000\n",
      "Epoch 00023: val_loss improved from 0.00014 to 0.00014, saving model to face_mask_finale.h5\n",
      "8/8 [==============================] - 10s 1s/step - loss: 0.0023 - accuracy: 1.0000 - val_loss: 1.4326e-04 - val_accuracy: 1.0000 - lr: 8.0000e-06\n",
      "Epoch 24/25\n",
      "8/8 [==============================] - ETA: 0s - loss: 0.0149 - accuracy: 0.9915\n",
      "Epoch 00024: val_loss improved from 0.00014 to 0.00014, saving model to face_mask_finale.h5\n",
      "8/8 [==============================] - 10s 1s/step - loss: 0.0149 - accuracy: 0.9915 - val_loss: 1.4014e-04 - val_accuracy: 1.0000 - lr: 8.0000e-06\n",
      "Epoch 25/25\n",
      "8/8 [==============================] - ETA: 0s - loss: 0.0025 - accuracy: 1.0000\n",
      "Epoch 00025: val_loss improved from 0.00014 to 0.00014, saving model to face_mask_finale.h5\n",
      "8/8 [==============================] - 11s 1s/step - loss: 0.0025 - accuracy: 1.0000 - val_loss: 1.3965e-04 - val_accuracy: 1.0000 - lr: 1.6000e-06\n"
     ]
    },
    {
     "data": {
      "text/plain": [
       "<tensorflow.python.keras.callbacks.History at 0x7f7f976bb7b8>"
      ]
     },
     "execution_count": 25,
     "metadata": {
      "tags": []
     },
     "output_type": "execute_result"
    }
   ],
   "source": [
    "#train the model\n",
    "model.fit(train, validation_data=validation,\n",
    "          steps_per_epoch = nb_train_samples//batch_size,\n",
    "          epochs = epochs,\n",
    "          callbacks=callbacks,\n",
    "          validation_steps = nb_test_samples//batch_size)"
   ]
  },
  {
   "cell_type": "code",
   "execution_count": null,
   "metadata": {
    "colab": {
     "base_uri": "https://localhost:8080/",
     "height": 282
    },
    "colab_type": "code",
    "executionInfo": {
     "elapsed": 1917,
     "status": "ok",
     "timestamp": 1595842296036,
     "user": {
      "displayName": "Azizul Hakim",
      "photoUrl": "https://lh3.googleusercontent.com/a-/AOh14Gg_W0L9s4YQUW1VbpSvNkA3uEljtlRkDhDKcgQH=s64",
      "userId": "02420555928817331370"
     },
     "user_tz": -360
    },
    "id": "3koLIEKTlD8f",
    "outputId": "cce49c3d-4dd5-46f4-bdf6-4656dca724f3"
   },
   "outputs": [
    {
     "data": {
      "text/plain": [
       "<matplotlib.axes._subplots.AxesSubplot at 0x7f7f96766b38>"
      ]
     },
     "execution_count": 27,
     "metadata": {
      "tags": []
     },
     "output_type": "execute_result"
    },
    {
     "data": {
      "image/png": "[encoded data removed]",
      "text/plain": [
       "<Figure size 432x288 with 1 Axes>"
      ]
     },
     "metadata": {
      "needs_background": "light",
      "tags": []
     },
     "output_type": "display_data"
    }
   ],
   "source": [
    "#visualize model result\n",
    "\n",
    "import pandas as pd\n",
    "loss = pd.DataFrame(model.history.history)\n",
    "loss.plot()"
   ]
  },
  {
   "cell_type": "code",
   "execution_count": null,
   "metadata": {},
   "outputs": [],
   "source": [
    "#predict on validation data\n",
    "pred = model.predict(validation)"
   ]
  },
  {
   "cell_type": "code",
   "execution_count": null,
   "metadata": {
    "colab": {},
    "colab_type": "code",
    "id": "C-3bdr7onZze"
   },
   "outputs": [],
   "source": [
    "#reshape predicted data to match validation class\n",
    "\n",
    "pred_reshaped = pred.reshape(41)"
   ]
  },
  {
   "cell_type": "code",
   "execution_count": null,
   "metadata": {
    "colab": {},
    "colab_type": "code",
    "id": "oqHA8hFjnhwj"
   },
   "outputs": [],
   "source": [
    "#make our prediction result into 0 or 1\n",
    "# 0 indicates With Mask and 1 indicates No Mask\n",
    "\n",
    "pred_real = []\n",
    "for x in pred_reshaped:\n",
    "  if x > .5:\n",
    "    x = 1\n",
    "  else:\n",
    "    x = 0\n",
    "  pred_real.append(x)"
   ]
  },
  {
   "cell_type": "code",
   "execution_count": null,
   "metadata": {
    "colab": {},
    "colab_type": "code",
    "id": "pEUyhM_8nnsv"
   },
   "outputs": [],
   "source": [
    "from sklearn.metrics import classification_report, confusion_matrix"
   ]
  },
  {
   "cell_type": "code",
   "execution_count": null,
   "metadata": {
    "colab": {
     "base_uri": "https://localhost:8080/",
     "height": 170
    },
    "colab_type": "code",
    "executionInfo": {
     "elapsed": 1386,
     "status": "ok",
     "timestamp": 1595842429802,
     "user": {
      "displayName": "Azizul Hakim",
      "photoUrl": "https://lh3.googleusercontent.com/a-/AOh14Gg_W0L9s4YQUW1VbpSvNkA3uEljtlRkDhDKcgQH=s64",
      "userId": "02420555928817331370"
     },
     "user_tz": -360
    },
    "id": "evRVyecGnpwf",
    "outputId": "1137b146-53b3-4f13-9b62-53fa896600c8"
   },
   "outputs": [
    {
     "name": "stdout",
     "output_type": "stream",
     "text": [
      "              precision    recall  f1-score   support\n",
      "\n",
      "           0       1.00      1.00      1.00        22\n",
      "           1       1.00      1.00      1.00        19\n",
      "\n",
      "    accuracy                           1.00        41\n",
      "   macro avg       1.00      1.00      1.00        41\n",
      "weighted avg       1.00      1.00      1.00        41\n",
      "\n"
     ]
    }
   ],
   "source": [
    "print(classification_report(validation.classes,pred_real))"
   ]
  },
  {
   "cell_type": "code",
   "execution_count": null,
   "metadata": {
    "colab": {
     "base_uri": "https://localhost:8080/",
     "height": 51
    },
    "colab_type": "code",
    "executionInfo": {
     "elapsed": 1532,
     "status": "ok",
     "timestamp": 1595842874208,
     "user": {
      "displayName": "Azizul Hakim",
      "photoUrl": "https://lh3.googleusercontent.com/a-/AOh14Gg_W0L9s4YQUW1VbpSvNkA3uEljtlRkDhDKcgQH=s64",
      "userId": "02420555928817331370"
     },
     "user_tz": -360
    },
    "id": "tUWAYYavnqKP",
    "outputId": "3eacac2a-1118-4f36-f388-648ccb941077"
   },
   "outputs": [
    {
     "data": {
      "text/plain": [
       "array([[22,  0],\n",
       "       [ 0, 19]])"
      ]
     },
     "execution_count": 43,
     "metadata": {
      "tags": []
     },
     "output_type": "execute_result"
    }
   ],
   "source": [
    "confusion_matrix(validation.classes,pred_real)"
   ]
  },
  {
   "cell_type": "code",
   "execution_count": null,
   "metadata": {
    "colab": {},
    "colab_type": "code",
    "id": "otvCZPoQpe8_"
   },
   "outputs": [],
   "source": []
  }
 ],
 "metadata": {
  "accelerator": "GPU",
  "colab": {
   "authorship_tag": "ABX9TyOK2kpvp5KmphRQuGtr/t/w",
   "collapsed_sections": [],
   "mount_file_id": "1KOCKVeC9XeDRSxVyBoBR-HIj63d3Paay",
   "name": "mask_v2.ipynb",
   "provenance": []
  },
  "kernelspec": {
   "display_name": "Python 3",
   "language": "python",
   "name": "python3"
  },
  "language_info": {
   "codemirror_mode": {
    "name": "ipython",
    "version": 3
   },
   "file_extension": ".py",
   "mimetype": "text/x-python",
   "name": "python",
   "nbconvert_exporter": "python",
   "pygments_lexer": "ipython3",
   "version": "3.7.6"
  }
 },
 "nbformat": 4,
 "nbformat_minor": 1
}
